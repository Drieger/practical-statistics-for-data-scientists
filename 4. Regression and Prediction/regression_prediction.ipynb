{
 "cells": [
  {
   "cell_type": "markdown",
   "id": "bbd58296",
   "metadata": {},
   "source": [
    "# 4. Regression and Prediction\n",
    "\n",
    "Perhaps the most common goal in statistics is to answer the question \"Is the variable X (or more likely, X1,....Xp) associated with a variable Y, and if so, what is the relationship and can we use it to predict Y?\n",
    "\n",
    "The process of training a model on data where the outcome is known _supervised learning_. Another important connection between data science and statistics is in the area of _anomaly detection_, where regression diagnostics originally intended for data analysis and improving the regression model can be used to detect unusual records.\n",
    "\n",
    "#### Simple Linear Regression\n",
    "\n",
    "Simple linear regression provides a model of the relationship between the magnitude of one variable and that of a second - for example, as X increases, Y also increases. or as X increases, Y decreases. Correlation is another way to measure how two variables are related. The difference is that while correlation measures the _strength_ of an association between two variables, regression quantifies the _nature_ of the relationship.\n",
    "\n",
    "<table>\n",
    "\t<tr>\n",
    "\t\t<th>Term</th>\n",
    "\t\t<th>Description</th>\n",
    "\t</tr>\n",
    "\t<tr>\n",
    "\t\t<td>Response</td>\n",
    "\t\t<td>The variable we are trying to predict (aka: dependent variable, Y variable, target, outcome)</td>\n",
    "\t</tr>\n",
    "\t<tr>\n",
    "\t\t<td>Independent variable</td>\n",
    "\t\t<td>The variable used to predict the response (aka: X variable, feature, attribute, predictor)</td>\n",
    "\t</tr>\n",
    "\t<tr>\n",
    "\t\t<td>Record</td>\n",
    "\t\t<td>The vector of predictor and outcome values for a specific individual or case</td>\n",
    "\t</tr>\n",
    "\t<tr>\n",
    "\t\t<td>Intercept</td>\n",
    "\t\t<td>The intercept of the regression line - that is, the predicted value when X=0</td>\n",
    "\t</tr>\n",
    "\t<tr>\n",
    "\t\t<td>Regression coefficient</td>\n",
    "\t\t<td>The slpe of the regression line</td>\n",
    "\t</tr>\n",
    "\t<tr>\n",
    "\t\t<td>Fitted values</td>\n",
    "\t\t<td>The estimates Yi, obtained from the regression line</td>\n",
    "\t</tr>\n",
    "\t<tr>\n",
    "\t\t<td>Residuals</td>\n",
    "\t\t<td>The difference between the observed values and the fitted values</td>\n",
    "\t</tr>\n",
    "\t<tr>\n",
    "\t\t<td>Least squares</td>\n",
    "\t\t<td>The method of fitting a regression by minimizing the sum of squared residuals</td>\n",
    "\t</tr>\n",
    "</table>"
   ]
  },
  {
   "cell_type": "markdown",
   "id": "b94c3c40",
   "metadata": {},
   "source": []
  }
 ],
 "metadata": {
  "kernelspec": {
   "display_name": "Python 3",
   "language": "python",
   "name": "python3"
  },
  "language_info": {
   "name": "python",
   "version": "3.13.2"
  }
 },
 "nbformat": 4,
 "nbformat_minor": 5
}
