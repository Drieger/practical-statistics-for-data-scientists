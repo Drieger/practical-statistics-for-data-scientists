{
 "cells": [
  {
   "cell_type": "markdown",
   "id": "bab94f28-a557-411e-acaf-7d85bdf24b83",
   "metadata": {},
   "source": [
    "# 1. Exploratory Data Analysis\n",
    "\n",
    "Exploring the data is the first step in any data science project\n",
    "\n",
    "#### Data types\n",
    "\n",
    "<table style='margin-left: 0; border: 1px solid'>\n",
    "    <tr>\n",
    "        <th>Term</th>\n",
    "        <th>Explanation</th>\n",
    "    </tr>\n",
    "    <tr>\n",
    "        <td>Numeric</td>\n",
    "        <td>Data that are expressed on a numeric scale.</td>\n",
    "    </tr>\n",
    "     <tr>\n",
    "        <td><i>Continuous</i></td>\n",
    "        <td>Data that can take on any (numeric) value in an interval.</td>\n",
    "    </tr>\n",
    "     <tr>\n",
    "        <td><i>Discrete</i></td>\n",
    "        <td>Data that can take only integer values, such as counts.</td>\n",
    "    </tr>\n",
    "      <tr>\n",
    "        <td>Categorical</td>\n",
    "        <td>Data that can take only a specific set of values, representing a set of possible categories.</td>\n",
    "    </tr>\n",
    "    <tr>\n",
    "        <td><i>Binary</i></td>\n",
    "        <td>A special case of categorical data with just two categories of values, e.g. 0/1, true/false.</td>\n",
    "    </tr>\n",
    "    <tr>\n",
    "        <td><i>Ordinal</i></td>\n",
    "        <td>Categorical data that has an explicit ordering.</td>\n",
    "    </tr>\n",
    "</table>\n",
    "\n",
    "#### Rectangular data\n",
    "\n",
    "_Rectangular data_ is the general term for a two-dimensional matrix with rows indicating records (cases) and columns indicating features (variables)\n",
    "\n",
    "<table style='margin-left: 0; border: 1px solid'>\n",
    "    <tr>\n",
    "        <th>Term</th>\n",
    "        <th>Explanation</th>\n",
    "    </tr>\n",
    "    <tr>\n",
    "        <td>Data frame</td>\n",
    "        <td>Rectangular data (like a spreadsheet) is the basic data structure for statistical and machine learning models.</td>\n",
    "    </tr>\n",
    "     <tr>\n",
    "        <td>Feature</td>\n",
    "        <td>A column within a table is commonly referred to as a <i>feature</i>.</td>\n",
    "    </tr>\n",
    "     <tr>\n",
    "        <td>Outcome</td>\n",
    "        <td>Many data science projects involve predicting an <i>outcome</i>. The <i>features</i> are some times used to predict the <i>outcome</i> in an experiment or study</td>\n",
    "    </tr>\n",
    "      <tr>\n",
    "        <td>Records</td>\n",
    "        <td>A row within a table is commonly referred to as a <i>record</i>.</td>\n",
    "    </tr>\n",
    "</table>"
   ]
  },
  {
   "cell_type": "code",
   "execution_count": 1,
   "id": "6b6ab55d-68fb-4b39-9371-19e5f4002f98",
   "metadata": {},
   "outputs": [],
   "source": [
    "import pandas as pd\n",
    "import numpy as np\n",
    "from scipy.stats import trim_mean\n",
    "import wquantiles\n",
    "from statsmodels.robust.scale import mad"
   ]
  },
  {
   "cell_type": "markdown",
   "id": "1fdd1f01-bff8-4691-bfad-b755fd6cacf8",
   "metadata": {},
   "source": [
    "#### Estimates of location\n",
    "\n",
    "A basic step in exploring your data is getting a \"typical value\" for each feature (variable): an estimate of where most of the data is located.\n",
    "\n",
    "<table style='margin-left: 0; border: 1px solid'>\n",
    "    <tr>\n",
    "        <th>Term</th>\n",
    "        <th>Explanation</th>\n",
    "        <th>Formula</th>\n",
    "    </tr>\n",
    "    <tr>\n",
    "        <td>Mean</td>\n",
    "        <td>The sum of all values divided by the number of values.</td>\n",
    "        <td style=\"font-size: 1.5em\">$\\bar{x} = {{\\sum_{i=1}^n x_i} \\over n}$</td>\n",
    "    </tr>\n",
    "    <tr>\n",
    "        <td>Weighted Mean</td>\n",
    "        <td>The sum of all values times a weight divided by the sum of the weights.</td>\n",
    "        <td style=\"font-size: 1.5em\">$\\bar{x_w}={{\\sum_{i=1}^n w_i x_i} \\over \\sum_{i=1}^n w_i}$</td>\n",
    "    </tr>\n",
    "    <tr>\n",
    "        <td>Trimmed mean</td>\n",
    "        <td>The average of all values after dropping a fixed number of extreme values.</td>\n",
    "        <td style=\"font-size: 1.5em\">$\\bar{x} = {{\\sum_{i=p+1}^{n-p} x_i} \\over {n-2p}}$</td>\n",
    "    </tr>\n",
    "    <tr>\n",
    "        <td>Median</td>\n",
    "        <td>The value such that one half of the data lies above an below (50th percentile).</td>\n",
    "    </tr>\n",
    "    <tr>\n",
    "        <td>Percentile</td>\n",
    "        <td>The values such that P percent of the data lies below.</td>\n",
    "    </tr>\n",
    "    <tr>\n",
    "        <td>Weighted median</td>\n",
    "        <td>The values such that one-half of the sum of the weights lies above and below the sorted data.</td>\n",
    "    </tr>\n",
    "    <tr>\n",
    "        <td>Robust</td>\n",
    "        <td>Not sensitive to extreme values.</td>\n",
    "    </tr>\n",
    "    <tr>\n",
    "        <td>Outlier</td>\n",
    "        <td>A data value that is very different from most of the data.</td>\n",
    "    </tr>\n",
    "</table>"
   ]
  },
  {
   "cell_type": "code",
   "execution_count": 2,
   "id": "05e24c8a-77ac-49ee-a31b-ed32ac943e12",
   "metadata": {},
   "outputs": [
    {
     "data": {
      "text/html": [
       "<div>\n",
       "<style scoped>\n",
       "    .dataframe tbody tr th:only-of-type {\n",
       "        vertical-align: middle;\n",
       "    }\n",
       "\n",
       "    .dataframe tbody tr th {\n",
       "        vertical-align: top;\n",
       "    }\n",
       "\n",
       "    .dataframe thead th {\n",
       "        text-align: right;\n",
       "    }\n",
       "</style>\n",
       "<table border=\"1\" class=\"dataframe\">\n",
       "  <thead>\n",
       "    <tr style=\"text-align: right;\">\n",
       "      <th></th>\n",
       "      <th>State</th>\n",
       "      <th>Population</th>\n",
       "      <th>Murder.Rate</th>\n",
       "      <th>Abbreviation</th>\n",
       "    </tr>\n",
       "  </thead>\n",
       "  <tbody>\n",
       "    <tr>\n",
       "      <th>0</th>\n",
       "      <td>Alabama</td>\n",
       "      <td>4779736</td>\n",
       "      <td>5.7</td>\n",
       "      <td>AL</td>\n",
       "    </tr>\n",
       "    <tr>\n",
       "      <th>1</th>\n",
       "      <td>Alaska</td>\n",
       "      <td>710231</td>\n",
       "      <td>5.6</td>\n",
       "      <td>AK</td>\n",
       "    </tr>\n",
       "    <tr>\n",
       "      <th>2</th>\n",
       "      <td>Arizona</td>\n",
       "      <td>6392017</td>\n",
       "      <td>4.7</td>\n",
       "      <td>AZ</td>\n",
       "    </tr>\n",
       "    <tr>\n",
       "      <th>3</th>\n",
       "      <td>Arkansas</td>\n",
       "      <td>2915918</td>\n",
       "      <td>5.6</td>\n",
       "      <td>AR</td>\n",
       "    </tr>\n",
       "    <tr>\n",
       "      <th>4</th>\n",
       "      <td>California</td>\n",
       "      <td>37253956</td>\n",
       "      <td>4.4</td>\n",
       "      <td>CA</td>\n",
       "    </tr>\n",
       "  </tbody>\n",
       "</table>\n",
       "</div>"
      ],
      "text/plain": [
       "        State  Population  Murder.Rate Abbreviation\n",
       "0     Alabama     4779736          5.7           AL\n",
       "1      Alaska      710231          5.6           AK\n",
       "2     Arizona     6392017          4.7           AZ\n",
       "3    Arkansas     2915918          5.6           AR\n",
       "4  California    37253956          4.4           CA"
      ]
     },
     "execution_count": 2,
     "metadata": {},
     "output_type": "execute_result"
    }
   ],
   "source": [
    "df = pd.read_csv('https://raw.githubusercontent.com/gedeck/practical-statistics-for-data-scientists/refs/heads/master/data/state.csv')\n",
    "df.head()"
   ]
  },
  {
   "cell_type": "code",
   "execution_count": 3,
   "id": "ff51b51e-f6b0-415c-a291-b99ba13ad278",
   "metadata": {},
   "outputs": [
    {
     "name": "stdout",
     "output_type": "stream",
     "text": [
      "Mean: 6162876.3\n",
      "Trimmed mean: 4783697.125\n",
      "Median: 4436369.5\n",
      "Weighted mean: 4.445833981123393\n",
      "Weighted median: 4.4\n"
     ]
    }
   ],
   "source": [
    "# Compute the mean of population\n",
    "print('Mean:', df['Population'].mean())\n",
    "\n",
    "# Compute the trimmed mean of population\n",
    "# Use scipy.stats.trim_mean function\n",
    "print('Trimmed mean:', trim_mean(df['Population'], 0.1))\n",
    "\n",
    "# Compute the trimmed mean of population\n",
    "print('Median:', df['Population'].median())\n",
    "\n",
    "# Weighted mean of Murder.Rate where weights are Population\n",
    "# Use np.average\n",
    "print('Weighted mean:', np.average(df['Murder.Rate'], weights=df['Population']))\n",
    "\n",
    "# Weighted median of Murder.Rate where weights are Population\n",
    "# Use wquantiles.median\n",
    "print('Weighted median:', wquantiles.median(df['Murder.Rate'], weights=df['Population']))"
   ]
  },
  {
   "cell_type": "markdown",
   "id": "f5c3d63f-0eaa-4974-b022-c166ef9988bd",
   "metadata": {},
   "source": [
    "#### Estimates of variability\n",
    "\n",
    "A second dimension, _variability_, also referred to as _dispersion_, measures whether the data values are tightly clustered or spread out.\n",
    "\n",
    "<table style='margin-left: 0; border: 1px solid'>\n",
    "    <tr>\n",
    "        <th>Term</th>\n",
    "        <th>Explanation</th>\n",
    "        <th>Formula</th>\n",
    "    </tr>\n",
    "    <tr>\n",
    "        <td>Deviations</td>\n",
    "        <td>The difference between the observed values and the estimate of location.</td>\n",
    "    </tr>\n",
    "    <tr>\n",
    "        <td>Variance</td>\n",
    "        <td>The sum of squared deviations from the mean divided by _n - 1_ where _n_ is the number of data values.</td>\n",
    "        <td style=\"font-size: 1.5em\">$s^2 = {{\\sum_{i=1}^n (x_i - \\bar{x})^2} \\over n - 1}$</td>\n",
    "    </tr>\n",
    "     <tr>\n",
    "        <td>Standard deviation</td>\n",
    "        <td>The square root of the variance.</td>\n",
    "        <td style=\"font-size: 1.5em\">$s = {\\sqrt{s^2}}$</td>\n",
    "    </tr>\n",
    "     <tr>\n",
    "        <td>Mean absolute deviation</td>\n",
    "        <td>The mean of the absolute values of the deviations from the mean.</td>\n",
    "        <td style=\"font-size: 1.5em\">${{\\sum_{i=1}^n |x_i - \\bar{x}|} \\over n}$</td>\n",
    "    </tr>\n",
    "    <tr>\n",
    "        <td>Median absolute deviation from the median</td>\n",
    "        <td>The median of the absolute values of the deviations from the median.</td>\n",
    "    </tr>\n",
    "    <tr>\n",
    "        <td>Range</td>\n",
    "        <td>The difference between the largest and the smallest value in a data set.</td>\n",
    "    </tr>\n",
    "     <tr>\n",
    "        <td>Order statistics</td>\n",
    "        <td>Metrics based on the data values sorted from smallest to biggest.</td>\n",
    "    </tr>\n",
    "    <tr>\n",
    "        <td>Percentile</td>\n",
    "        <td>The values such that P percent of the values take on this value or less and (100-P) percent take on this value or more.</td>\n",
    "    </tr>\n",
    "    <tr>\n",
    "        <td>Interquartile range</td>\n",
    "        <td>The difference between the 75th percentile and the 25th percentile.</td>\n",
    "    </tr>\n",
    "</table>"
   ]
  },
  {
   "cell_type": "code",
   "execution_count": 4,
   "id": "4bc48454-206e-4f78-8e51-902561390d10",
   "metadata": {},
   "outputs": [
    {
     "data": {
      "text/html": [
       "<div>\n",
       "<style scoped>\n",
       "    .dataframe tbody tr th:only-of-type {\n",
       "        vertical-align: middle;\n",
       "    }\n",
       "\n",
       "    .dataframe tbody tr th {\n",
       "        vertical-align: top;\n",
       "    }\n",
       "\n",
       "    .dataframe thead th {\n",
       "        text-align: right;\n",
       "    }\n",
       "</style>\n",
       "<table border=\"1\" class=\"dataframe\">\n",
       "  <thead>\n",
       "    <tr style=\"text-align: right;\">\n",
       "      <th></th>\n",
       "      <th>State</th>\n",
       "      <th>Population</th>\n",
       "      <th>Murder.Rate</th>\n",
       "      <th>Abbreviation</th>\n",
       "    </tr>\n",
       "  </thead>\n",
       "  <tbody>\n",
       "    <tr>\n",
       "      <th>0</th>\n",
       "      <td>Alabama</td>\n",
       "      <td>4779736</td>\n",
       "      <td>5.7</td>\n",
       "      <td>AL</td>\n",
       "    </tr>\n",
       "    <tr>\n",
       "      <th>1</th>\n",
       "      <td>Alaska</td>\n",
       "      <td>710231</td>\n",
       "      <td>5.6</td>\n",
       "      <td>AK</td>\n",
       "    </tr>\n",
       "    <tr>\n",
       "      <th>2</th>\n",
       "      <td>Arizona</td>\n",
       "      <td>6392017</td>\n",
       "      <td>4.7</td>\n",
       "      <td>AZ</td>\n",
       "    </tr>\n",
       "    <tr>\n",
       "      <th>3</th>\n",
       "      <td>Arkansas</td>\n",
       "      <td>2915918</td>\n",
       "      <td>5.6</td>\n",
       "      <td>AR</td>\n",
       "    </tr>\n",
       "    <tr>\n",
       "      <th>4</th>\n",
       "      <td>California</td>\n",
       "      <td>37253956</td>\n",
       "      <td>4.4</td>\n",
       "      <td>CA</td>\n",
       "    </tr>\n",
       "  </tbody>\n",
       "</table>\n",
       "</div>"
      ],
      "text/plain": [
       "        State  Population  Murder.Rate Abbreviation\n",
       "0     Alabama     4779736          5.7           AL\n",
       "1      Alaska      710231          5.6           AK\n",
       "2     Arizona     6392017          4.7           AZ\n",
       "3    Arkansas     2915918          5.6           AR\n",
       "4  California    37253956          4.4           CA"
      ]
     },
     "execution_count": 4,
     "metadata": {},
     "output_type": "execute_result"
    }
   ],
   "source": [
    "df = pd.read_csv('https://raw.githubusercontent.com/gedeck/practical-statistics-for-data-scientists/refs/heads/master/data/state.csv')\n",
    "df.head()"
   ]
  },
  {
   "cell_type": "code",
   "execution_count": 5,
   "id": "5072f9b7-1486-4309-878b-db7402c8ba11",
   "metadata": {},
   "outputs": [
    {
     "name": "stdout",
     "output_type": "stream",
     "text": [
      "Standard deviation: 6848235.347401142\n",
      "Interquartile Range: 4847308.0\n",
      "MAD: 3849876.1459979336\n"
     ]
    }
   ],
   "source": [
    "# Compute standard deviation of population\n",
    "print('Standard deviation:', df['Population'].std())\n",
    "\n",
    "# Compute IQR\n",
    "iqr = df['Population'].quantile(0.75) - df['Population'].quantile(0.25)\n",
    "print(\"Interquartile Range:\", iqr)\n",
    "\n",
    "# Compute Median Absolute Deviation from the median (MAD)\n",
    "# Use statsmodels.robust.scale.mad\n",
    "print('MAD:', mad(df['Population']))"
   ]
  },
  {
   "cell_type": "markdown",
   "id": "f13ec182-ea4e-4bef-ab54-f0b3e4e00aa3",
   "metadata": {},
   "source": [
    "#### Exploring the data distribution\n",
    "\n",
    "It is also useful to explore how the data is distributed overall\n",
    "\n",
    "<table style='margin-left: 0; border: 1px solid'>\n",
    "<tr>\n",
    "    <th>Term</th>\n",
    "    <th>Explanation</th>\n",
    "</tr>\n",
    "<tr>\n",
    "    <td>Boxplot</td>\n",
    "    <td>A plot introduced by Tukey as a quick way to visualize distribution of data.</td>\n",
    "</tr>\n",
    "<tr>\n",
    "    <td>Frequency table</td>\n",
    "    <td>A tally of the count of numeric data values that fall into a set of intervals (bins).</td>\n",
    "</tr>\n",
    "<tr>\n",
    "    <td>Histogram</td>\n",
    "    <td>A plot of the frequency table with the bins on the x-axis and the count on the y-axis.</td>\n",
    "</tr>\n",
    "<tr>\n",
    "    <td>Density plot</td>\n",
    "    <td>A smoothed version of the histogram, often based on <i>kernel desity estimate</i>.</td>\n",
    "</tr>    \n",
    "</table>"
   ]
  },
  {
   "cell_type": "code",
   "execution_count": 6,
   "id": "297f64c5-be60-4a1e-a7be-08631e30fd59",
   "metadata": {},
   "outputs": [
    {
     "data": {
      "text/html": [
       "<div>\n",
       "<style scoped>\n",
       "    .dataframe tbody tr th:only-of-type {\n",
       "        vertical-align: middle;\n",
       "    }\n",
       "\n",
       "    .dataframe tbody tr th {\n",
       "        vertical-align: top;\n",
       "    }\n",
       "\n",
       "    .dataframe thead th {\n",
       "        text-align: right;\n",
       "    }\n",
       "</style>\n",
       "<table border=\"1\" class=\"dataframe\">\n",
       "  <thead>\n",
       "    <tr style=\"text-align: right;\">\n",
       "      <th></th>\n",
       "      <th>State</th>\n",
       "      <th>Population</th>\n",
       "      <th>Murder.Rate</th>\n",
       "      <th>Abbreviation</th>\n",
       "    </tr>\n",
       "  </thead>\n",
       "  <tbody>\n",
       "    <tr>\n",
       "      <th>0</th>\n",
       "      <td>Alabama</td>\n",
       "      <td>4779736</td>\n",
       "      <td>5.7</td>\n",
       "      <td>AL</td>\n",
       "    </tr>\n",
       "    <tr>\n",
       "      <th>1</th>\n",
       "      <td>Alaska</td>\n",
       "      <td>710231</td>\n",
       "      <td>5.6</td>\n",
       "      <td>AK</td>\n",
       "    </tr>\n",
       "    <tr>\n",
       "      <th>2</th>\n",
       "      <td>Arizona</td>\n",
       "      <td>6392017</td>\n",
       "      <td>4.7</td>\n",
       "      <td>AZ</td>\n",
       "    </tr>\n",
       "    <tr>\n",
       "      <th>3</th>\n",
       "      <td>Arkansas</td>\n",
       "      <td>2915918</td>\n",
       "      <td>5.6</td>\n",
       "      <td>AR</td>\n",
       "    </tr>\n",
       "    <tr>\n",
       "      <th>4</th>\n",
       "      <td>California</td>\n",
       "      <td>37253956</td>\n",
       "      <td>4.4</td>\n",
       "      <td>CA</td>\n",
       "    </tr>\n",
       "  </tbody>\n",
       "</table>\n",
       "</div>"
      ],
      "text/plain": [
       "        State  Population  Murder.Rate Abbreviation\n",
       "0     Alabama     4779736          5.7           AL\n",
       "1      Alaska      710231          5.6           AK\n",
       "2     Arizona     6392017          4.7           AZ\n",
       "3    Arkansas     2915918          5.6           AR\n",
       "4  California    37253956          4.4           CA"
      ]
     },
     "execution_count": 6,
     "metadata": {},
     "output_type": "execute_result"
    }
   ],
   "source": [
    "df = pd.read_csv('https://raw.githubusercontent.com/gedeck/practical-statistics-for-data-scientists/refs/heads/master/data/state.csv')\n",
    "df.head()"
   ]
  },
  {
   "cell_type": "code",
   "execution_count": 7,
   "id": "33580a04-54e4-4e1e-911d-5ede16dc37e1",
   "metadata": {},
   "outputs": [
    {
     "data": {
      "text/plain": [
       "0.05    1.600\n",
       "0.25    2.425\n",
       "0.50    4.000\n",
       "0.75    5.550\n",
       "0.95    6.510\n",
       "Name: Murder.Rate, dtype: float64"
      ]
     },
     "execution_count": 7,
     "metadata": {},
     "output_type": "execute_result"
    }
   ],
   "source": [
    "# Compute 5%, 25%, 50%, 75%, 95% quantiles\n",
    "df['Murder.Rate'].quantile([.05, .25, .5, .75, .95])"
   ]
  },
  {
   "cell_type": "code",
   "execution_count": 9,
   "id": "06706043-d565-4349-8d07-8d5230f92362",
   "metadata": {},
   "outputs": [
    {
     "data": {
      "text/plain": [
       "Text(0, 0.5, 'Population (millions')"
      ]
     },
     "execution_count": 9,
     "metadata": {},
     "output_type": "execute_result"
    },
    {
     "data": {
      "image/png": "[encoded data removed]",
      "text/plain": [
       "<Figure size 640x480 with 1 Axes>"
      ]
     },
     "metadata": {},
     "output_type": "display_data"
    }
   ],
   "source": [
    "# Plot a boxplot\n",
    "# By default, the Matplotlib function extends the whiskers to the furthest point beyond the box, \n",
    "# except that it will not go beyond 1.5 times the IQR.\n",
    "ax = (df['Population']/1_000_000).plot.box()\n",
    "ax.set_ylabel('Population (millions')"
   ]
  },
  {
   "cell_type": "code",
   "execution_count": 11,
   "id": "53f8ca92-21fc-474d-a459-31c9b73b42fe",
   "metadata": {},
   "outputs": [
    {
     "data": {
      "text/plain": [
       "Population\n",
       "(526935.67, 4232659.0]      24\n",
       "(4232659.0, 7901692.0]      14\n",
       "(7901692.0, 11570725.0]      6\n",
       "(11570725.0, 15239758.0]     2\n",
       "(15239758.0, 18908791.0]     1\n",
       "(18908791.0, 22577824.0]     1\n",
       "(22577824.0, 26246857.0]     1\n",
       "(33584923.0, 37253956.0]     1\n",
       "(26246857.0, 29915890.0]     0\n",
       "(29915890.0, 33584923.0]     0\n",
       "Name: count, dtype: int64"
      ]
     },
     "execution_count": 11,
     "metadata": {},
     "output_type": "execute_result"
    }
   ],
   "source": [
    "# Frequency table\n",
    "# A frequency table of a variable divides up the variable range into equally spaced segments and\n",
    "# tells us how many values falls within each segment\n",
    "binnedPopulation = pd.cut(df['Population'], 10)\n",
    "binnedPopulation.value_counts()"
   ]
  },
  {
   "cell_type": "code",
   "execution_count": 16,
   "id": "3c972a0e-12fc-47a6-8f08-dbb65f2f236f",
   "metadata": {},
   "outputs": [
    {
     "data": {
      "text/plain": [
       "Text(0.5, 0, 'Population')"
      ]
     },
     "execution_count": 16,
     "metadata": {},
     "output_type": "execute_result"
    },
    {
     "data": {
      "image/png": "[encoded data removed]",
      "text/plain": [
       "<Figure size 640x480 with 1 Axes>"
      ]
     },
     "metadata": {},
     "output_type": "display_data"
    }
   ],
   "source": [
    "# Histogram\n",
    "# A histogram is a way to visualize a frequency table\n",
    "ax = (df['Population']/1_000_000).plot.hist()\n",
    "ax.set_ylabel('Frequency')\n",
    "ax.set_xlabel('Population')"
   ]
  },
  {
   "cell_type": "code",
   "execution_count": 20,
   "id": "d7b91a51-76fc-4ddc-b42a-61fbc395de64",
   "metadata": {},
   "outputs": [
    {
     "data": {
      "text/plain": [
       "Text(0.5, 0, 'Murder Rate (per 100,000)')"
      ]
     },
     "execution_count": 20,
     "metadata": {},
     "output_type": "execute_result"
    },
    {
     "data": {
      "image/png": "[encoded data removed]",
      "text/plain": [
       "<Figure size 640x480 with 1 Axes>"
      ]
     },
     "metadata": {},
     "output_type": "display_data"
    }
   ],
   "source": [
    "# Density plots and estimates\n",
    "# Shows the distribution of data values as continuous values, can be thought of\n",
    "# as a smoothed histogram\n",
    "ax = df['Murder.Rate'].plot.hist(density=True, xlim=[0,12], bins=range(0,12))\n",
    "df['Murder.Rate'].plot.density(ax=ax)\n",
    "ax.set_xlabel('Murder Rate (per 100,000)')"
   ]
  },
  {
   "cell_type": "markdown",
   "id": "3d8d7c6b-b864-4420-891c-fad796e23d4e",
   "metadata": {},
   "source": [
    "#### Exploring binary and categorical data\n",
    "\n",
    "For categorical data, simple proportions or percentages tell the story of the data\n",
    "\n",
    "<table style='margin-left: 0; border: 1px solid'>\n",
    "    <tr>\n",
    "        <th>Term</th>\n",
    "        <th>Explanation</th>\n",
    "    </tr>\n",
    "    <tr>\n",
    "        <td>Mode</td>\n",
    "        <td>The most commonly occurring category or values in a data set.</td>\n",
    "    </tr>\n",
    "    <tr>\n",
    "        <td>Expected value</td>\n",
    "        <td>When the categories can be associated with a numeric value, this gives an average value based on a category's probabilit of occurrence.</td>\n",
    "    </tr>\n",
    "    <tr>\n",
    "        <td>Bar charts</td>\n",
    "        <td>The frequency or proportion for each category plotted as bars.</td>\n",
    "    </tr>\n",
    "    <tr>\n",
    "        <td>Pie charts</td>\n",
    "        <td>The frequency or proportion for each category plotted as wedges in a pie.</td>\n",
    "    </tr>\n",
    "</table>"
   ]
  }
 ],
 "metadata": {
  "kernelspec": {
   "display_name": "Python 3 (ipykernel)",
   "language": "python",
   "name": "python3"
  },
  "language_info": {
   "codemirror_mode": {
    "name": "ipython",
    "version": 3
   },
   "file_extension": ".py",
   "mimetype": "text/x-python",
   "name": "python",
   "nbconvert_exporter": "python",
   "pygments_lexer": "ipython3",
   "version": "3.13.1"
  }
 },
 "nbformat": 4,
 "nbformat_minor": 5
}
