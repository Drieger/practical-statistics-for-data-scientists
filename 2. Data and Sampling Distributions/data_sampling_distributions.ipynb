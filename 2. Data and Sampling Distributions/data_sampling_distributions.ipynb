{
 "cells": [
  {
   "cell_type": "code",
   "execution_count": 2,
   "id": "0e5d6f58",
   "metadata": {},
   "outputs": [],
   "source": [
    "import pandas as pd\n",
    "import numpy as np\n",
    "\n",
    "import matplotlib.pyplot as plt"
   ]
  },
  {
   "cell_type": "markdown",
   "id": "237750cf-a3a8-4b4f-9fbf-39b2e13e236a",
   "metadata": {},
   "source": [
    "# 2. Data and Sampling Distributions\n",
    "\n",
    "The proliferation of data of varying quality and relevance reinforces the needs for sampling as a tool to work efficiently with a variety of data and to minimize bias. Even in a big data project, predictive models are typically developed and piloted with samples.\n",
    "\n",
    "#### Random sampling and sample bias\n",
    "\n",
    "Random sampling is a process in which each available member of the population being sampled has an equal change of being chosen for the sample at each draw. Data quality often matter more than data quantity when making an estimate or a model based on a sample.\n",
    "\n",
    "<table style='margin-left: 0; border: 1px solid'>\n",
    "    <tr>\n",
    "        <th>Term</th>\n",
    "        <th>Explanation</th>\n",
    "    </tr>\n",
    "    <tr>\n",
    "        <td>Sample</td>\n",
    "        <td>A subset from a larger data set.</td>\n",
    "    </tr>\n",
    "    <tr>\n",
    "        <td>Population</td>\n",
    "        <td>The larger data set or idea of a data set.</td>\n",
    "    </tr>\n",
    "    <tr>\n",
    "        <td>N (n)</td>\n",
    "        <td>The size of the population (sample).</td>\n",
    "    </tr>\n",
    "    <tr>\n",
    "        <td>Random sampling</td>\n",
    "        <td>Drawing elements into a sample at random.</td>\n",
    "    </tr>\n",
    "    <tr>\n",
    "        <td>Stratified sampling</td>\n",
    "        <td>Dividing the population into strata and randomly sampling from each strata.</td>\n",
    "    </tr>\n",
    "    <tr>\n",
    "        <td>Stratum (pl., strata)</td>\n",
    "        <td>A homogeneous subgroup of a population with common characteristics.</td>\n",
    "    </tr>\n",
    "    <tr>\n",
    "        <td>Simple random sample</td>\n",
    "        <td>The sample that results from random sampling withou stratifying the population.</td>\n",
    "    </tr>\n",
    "    <tr>\n",
    "        <td>Bias</td>\n",
    "        <td>Systematic error.</td>\n",
    "    </tr>\n",
    "    <tr>\n",
    "        <td>Sample bias</td>\n",
    "        <td>A sample that misrepresents the population.</td>\n",
    "    </tr>\n",
    "</table>\n",
    "\n",
    "#### Bias\n",
    "\n",
    "Statistical bias refers to measurement or sampling errors that are systematic and produced by the measurement or sampling process. An important distinction should be made between errors due to random chance and errors due to bias. An unbiased process will produce error, but it is random and does not tend strongly in any direction.\n",
    "\n",
    "#### Selection bias\n",
    "\n",
    "Selection bias refers to the practice of selectively choosing data - consciouly or unconsciously - in a way that leads to a conclusion that is misleading or ephemeral.\n",
    "\n",
    "<table style='margin-left: 0; border: 1px solid'>\n",
    "    <tr>\n",
    "        <th>Term</th>\n",
    "        <th>Explanation</th>\n",
    "    </tr>\n",
    "    <tr>\n",
    "        <td>Selection bias</td>\n",
    "        <td>Bias resulting from the way in which observations are selected.</td>\n",
    "    </tr>\n",
    "    <tr>\n",
    "        <td>Data snooping</td>\n",
    "        <td>Extensive hunting through data in search of something interesting.</td>\n",
    "    </tr>\n",
    "    <tr>\n",
    "        <td>Vast search effect</td>\n",
    "        <td>Bias or nonreproducibility resulting from repeated data modeling, or modeling data with large numbers of predictor variables.</td>\n",
    "    </tr>\n",
    "    \n",
    "</table>\n",
    "\n",
    "#### Regression to the mean\n",
    "\n",
    "Regression to the mean, meaning to \"go back\", is distinct from the statistical modeling method of linear regression, in which a linear relationship is estimated between predictor variables and an outcome variable.\n",
    "\n",
    "#### Sampling distribution of a statistic\n",
    "\n",
    "The term _sampling distribution_ of a statistic refers to the distribution of some sample statistic  over many samples drawn from the same population. Much of classical statistics is concerned with making inferences from (small) samples to (very large) populations.\n",
    "\n",
    "<table style='margin-left: 0; border: 1px solid'>\n",
    "    <tr>\n",
    "        <th>Term</th>\n",
    "        <th>Explanation</th>\n",
    "    </tr>\n",
    "    <tr>\n",
    "        <td>Sample statistic</td>\n",
    "        <td>A metric calculated for a sample of data drawn from a larger population.</td>\n",
    "    </tr>\n",
    "    <tr>\n",
    "        <td>Data distribution</td>\n",
    "        <td>The frequency distribution of individual <i>values</i> in a dataset.</td>\n",
    "    </tr>\n",
    "    <tr>\n",
    "        <td>Sampling distribution</td>\n",
    "        <td>The frequency distribution of a <i>sample statistic</i> over many samples or resamples.</td>\n",
    "    </tr>\n",
    "    <tr> \n",
    "        <td>Central limit theorem</td>\n",
    "        <td>The tendency of sampling distribution to take on a normal shape as sample size rises.</td>\n",
    "    </tr>\n",
    "    <tr> \n",
    "        <td>Standard error</td>\n",
    "        <td>The variability (standard deviation) of a sample <i>statistic</i> over many samples (not to be confused with <i>standard deviation</i>, which by itself, refers to variability of individuals data <i>values</i></td>\n",
    "    </tr>\n",
    "</table>"
   ]
  },
  {
   "cell_type": "code",
   "execution_count": 3,
   "id": "a4072fd8-f0e0-40b0-a8cc-30f15e2d27b9",
   "metadata": {},
   "outputs": [
    {
     "data": {
      "text/html": [
       "<div>\n",
       "<style scoped>\n",
       "    .dataframe tbody tr th:only-of-type {\n",
       "        vertical-align: middle;\n",
       "    }\n",
       "\n",
       "    .dataframe tbody tr th {\n",
       "        vertical-align: top;\n",
       "    }\n",
       "\n",
       "    .dataframe thead th {\n",
       "        text-align: right;\n",
       "    }\n",
       "</style>\n",
       "<table border=\"1\" class=\"dataframe\">\n",
       "  <thead>\n",
       "    <tr style=\"text-align: right;\">\n",
       "      <th></th>\n",
       "      <th>x</th>\n",
       "    </tr>\n",
       "  </thead>\n",
       "  <tbody>\n",
       "    <tr>\n",
       "      <th>49995</th>\n",
       "      <td>40000</td>\n",
       "    </tr>\n",
       "    <tr>\n",
       "      <th>49996</th>\n",
       "      <td>54000</td>\n",
       "    </tr>\n",
       "    <tr>\n",
       "      <th>49997</th>\n",
       "      <td>50000</td>\n",
       "    </tr>\n",
       "    <tr>\n",
       "      <th>49998</th>\n",
       "      <td>82000</td>\n",
       "    </tr>\n",
       "    <tr>\n",
       "      <th>49999</th>\n",
       "      <td>70000</td>\n",
       "    </tr>\n",
       "  </tbody>\n",
       "</table>\n",
       "</div>"
      ],
      "text/plain": [
       "           x\n",
       "49995  40000\n",
       "49996  54000\n",
       "49997  50000\n",
       "49998  82000\n",
       "49999  70000"
      ]
     },
     "execution_count": 3,
     "metadata": {},
     "output_type": "execute_result"
    }
   ],
   "source": [
    "# Load loan_income\n",
    "df_loan_income = pd.read_csv('https://raw.githubusercontent.com/gedeck/practical-statistics-for-data-scientists/refs/heads/master/data/loans_income.csv')\n",
    "df_loan_income.tail()"
   ]
  },
  {
   "cell_type": "code",
   "execution_count": 4,
   "id": "50196829",
   "metadata": {},
   "outputs": [
    {
     "data": {
      "text/plain": [
       "<seaborn.axisgrid.FacetGrid at 0x2098e01a120>"
      ]
     },
     "execution_count": 4,
     "metadata": {},
     "output_type": "execute_result"
    },
    {
     "data": {
      "image/png": "[encoded data removed]",
      "text/plain": [
       "<Figure size 400x600 with 3 Axes>"
      ]
     },
     "metadata": {},
     "output_type": "display_data"
    }
   ],
   "source": [
    "import seaborn as sns\n",
    "\n",
    "sample_data = pd.DataFrame({\n",
    "\t'income': df_loan_income['x'].sample(1000),\n",
    "\t'type': 'Data'\n",
    "})\n",
    "\n",
    "sample_mean_05 = pd.DataFrame({\n",
    "\t'income': [df_loan_income['x'].sample(5).mean() for _ in range(1000)],\n",
    "\t'type': 'Mean of 5'\n",
    "})\n",
    "\n",
    "sample_mean_20 = pd.DataFrame({\n",
    "\t'income': [df_loan_income['x'].sample(20).mean() for _ in range(1000)],\n",
    "\t'type': 'Mean of 20'\n",
    "})\n",
    "\n",
    "results = pd.concat([sample_data, sample_mean_05, sample_mean_20])\n",
    "\n",
    "g = sns.FacetGrid(results, col='type', col_wrap=1, height=2, aspect=2)\n",
    "g.map(plt.hist, 'income', range=[0, 200000], bins=40)\n",
    "g.set_axis_labels('Income', 'Count')\n",
    "g.set_titles('{col_name}')"
   ]
  },
  {
   "cell_type": "markdown",
   "id": "c682151a",
   "metadata": {},
   "source": [
    "#### The bootstrap\n",
    "\n",
    "A way to estimate the sampling distribution of a statistics, or of a model, drawing additional, with replacement, from the sample itself and recalculate the statistics or model for each resample. It does not necessarily involves any assumptions about the data or the sample statistics being normally distributed.\n",
    "\n",
    "<table style='margin-left: 0; border: 1px solid'>\n",
    "    <tr>\n",
    "        <th>Term</th>\n",
    "        <th>Explanation</th>\n",
    "    </tr>\n",
    "    <tr>\n",
    "        <td>Bootstrap sample</td>\n",
    "        <td>A sample taken with replacement from an observed data set.</td>\n",
    "    </tr>\n",
    "    <tr>\n",
    "        <td>Resampling</td>\n",
    "        <td>The process of taking repeated samples from observed data; includes both bootstrap and permutation (shuffling) procedures.</td>\n",
    "    </tr>\n",
    "</table>"
   ]
  },
  {
   "cell_type": "code",
   "execution_count": 5,
   "id": "caa6c114",
   "metadata": {},
   "outputs": [
    {
     "name": "stdout",
     "output_type": "stream",
     "text": [
      "Bootstrap statistics\n",
      "Original: 62000.0\n",
      "Bias: -77.05649999999878\n",
      "Std: 218.9648045768849\n"
     ]
    }
   ],
   "source": [
    "from sklearn.utils import resample\n",
    "\n",
    "results = []\n",
    "for i in range(1000):\n",
    "\tsample = resample(df_loan_income)\n",
    "\tresults.append(sample.x.median())\n",
    "results = pd.Series(results)\n",
    "print('Bootstrap statistics')\n",
    "print(f'Original: {df_loan_income.x.median()}')\n",
    "print(f'Bias: {results.mean() - df_loan_income.x.median()}')\n",
    "print(f'Std: {results.std()}')"
   ]
  },
  {
   "cell_type": "markdown",
   "id": "6e7442e8",
   "metadata": {},
   "source": [
    "#### Confidence intervals\n",
    "\n",
    "Another way to understand the pontential error in a sample estimate.\n",
    "\n",
    "<table style='margin-left: 0; border: 1px solid'>\n",
    "    <tr>\n",
    "        <th>Term</th>\n",
    "        <th>Explanation</th>\n",
    "    </tr>\n",
    "    <tr>\n",
    "        <td>Confidence level</td>\n",
    "        <td>The percentage of confidence intervals, constructed in the same way from the same population, that are expected to contain the statistic of interest</td>\n",
    "    </tr>\n",
    "    <tr>\n",
    "        <td>Interval endpoints</td>\n",
    "        <td>The top and bottom of the confidence interval.</td>\n",
    "    </tr>\n",
    "</table>\n",
    "\n",
    "\n",
    "#### Normal distribution\n",
    "\n",
    "The bell-shaped normal distribution is iconic in traditional statistics. The fact that distribution of sample statistics are often normally shaped has made it powerful tool in the development of mathematical formulas that approximate those distributions.\n",
    "\n",
    "<table style='margin-left: 0; border: 1px solid'>\n",
    "    <tr>\n",
    "        <th>Term</th>\n",
    "        <th>Explanation</th>\n",
    "    </tr>\n",
    "    <tr>\n",
    "        <td>Error</td>\n",
    "        <td>The difference between a data point and a predicted or average value.</td>\n",
    "    </tr>\n",
    "    <tr>\n",
    "        <td>Standardize</td>\n",
    "        <td>Subtract the mean and divide by the standard deviation.</td>\n",
    "    </tr>\n",
    "    <tr>\n",
    "        <td>z-score</td>\n",
    "        <td>The result of standardizing and individual data point.</td>\n",
    "    </tr>\n",
    "    <tr>\n",
    "        <td>Standard normal</td>\n",
    "        <td>A normal distribution with mean=0  and standard deviation=1</td>\n",
    "    </tr>\n",
    "    <tr>\n",
    "        <td>QQ-Plot</td>\n",
    "        <td>A plot to visualize how close a sample distritbution is to a specified ditribution. e.g, the normal distribution</td>\n",
    "    </tr>\n",
    "</table>\n",
    "\n",
    "In a normal distribution, 68% of the data lies within one standard deviation of the mean, and 95% lies within 2 standard deviations.\n"
   ]
  },
  {
   "cell_type": "markdown",
   "id": "28266f33",
   "metadata": {},
   "source": [
    "#### Standard Normal and QQ-Plots\n",
    "\n",
    "A _standard normal_ distribution is one in which the units on the x-axis are expressed in terms of standard deviations away from the mean. To compare data to a standard normal distribution, you subtract the mean and then divide by the standard deviation; this is also called _normalization_ or _standardization_.\n",
    "\n",
    "A _QQ-Plot_ is used to visually determine how close a sample is to a specified distribution - in this case, the normal distribution. The QQ-Plot orders the _z-scores_ from low to high and plots each value's _z-score_ on the y-axis. the x-axis is the corresponding quantile of a normal distribution for that value's rank. Since the data is normalized, the units correspond to the number of standard deviations away from the mean. If the poitns roughly fall on the diagonal line, then the sample distribution can be considered close to a normal."
   ]
  },
  {
   "cell_type": "code",
   "execution_count": 7,
   "id": "6ca9b327",
   "metadata": {},
   "outputs": [
    {
     "data": {
      "image/png": "[encoded data removed]",
      "text/plain": [
       "<Figure size 400x400 with 1 Axes>"
      ]
     },
     "metadata": {},
     "output_type": "display_data"
    }
   ],
   "source": [
    "# Use scipy.stats.probplot to create the QQ-Plot\n",
    "from scipy import stats\n",
    "fig, ax = plt.subplots(figsize=(4, 4))\n",
    "\n",
    "norm_sample = stats.norm.rvs(size=100)\n",
    "stats.probplot(norm_sample, plot=ax)\n",
    "plt.show()"
   ]
  },
  {
   "cell_type": "code",
   "execution_count": null,
   "id": "50b220e8",
   "metadata": {},
   "outputs": [],
   "source": []
  }
 ],
 "metadata": {
  "kernelspec": {
   "display_name": "Python 3",
   "language": "python",
   "name": "python3"
  },
  "language_info": {
   "codemirror_mode": {
    "name": "ipython",
    "version": 3
   },
   "file_extension": ".py",
   "mimetype": "text/x-python",
   "name": "python",
   "nbconvert_exporter": "python",
   "pygments_lexer": "ipython3",
   "version": "3.13.1"
  }
 },
 "nbformat": 4,
 "nbformat_minor": 5
}
