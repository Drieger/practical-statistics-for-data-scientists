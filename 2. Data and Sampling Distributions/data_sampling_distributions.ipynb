{
 "cells": [
  {
   "cell_type": "markdown",
   "id": "237750cf-a3a8-4b4f-9fbf-39b2e13e236a",
   "metadata": {},
   "source": [
    "# 2. Data and Sampling Distributions\n",
    "\n",
    "The proliferation of data of varying quality and relevance reinforces the needs for sampling as a tool to work efficiently with a variety of data and to minimize bias. Even in a big data project, predictive models are typically developed and piloted with samples.\n",
    "\n",
    "#### Random sampling and sample bias\n",
    "\n",
    "Random sampling is a process in which each available member of the population being sampled has an equal change of being chosen for the sample at each draw. Data quality often matter more than data quantity when making an estimate or a model based on a sample.\n",
    "\n",
    "<table style='margin-left: 0; border: 1px solid'>\n",
    "    <tr>\n",
    "        <th>Term</th>\n",
    "        <th>Explanation</th>\n",
    "    </tr>\n",
    "    <tr>\n",
    "        <td>Sample</td>\n",
    "        <td>A subset from a larger data set.</td>\n",
    "    </tr>\n",
    "    <tr>\n",
    "        <td>Population</td>\n",
    "        <td>The larger data set or idea of a data set.</td>\n",
    "    </tr>\n",
    "    <tr>\n",
    "        <td>N (n)</td>\n",
    "        <td>The size of the population (sample).</td>\n",
    "    </tr>\n",
    "    <tr>\n",
    "        <td>Random sampling</td>\n",
    "        <td>Drawing elements into a sample at random.</td>\n",
    "    </tr>\n",
    "    <tr>\n",
    "        <td>Stratified sampling</td>\n",
    "        <td>Dividing the population into strata and randomly sampling from each strata.</td>\n",
    "    </tr>\n",
    "    <tr>\n",
    "        <td>Stratum (pl., strata)</td>\n",
    "        <td>A homogeneous subgroup of a population with common characteristics.</td>\n",
    "    </tr>\n",
    "    <tr>\n",
    "        <td>Simple random sample</td>\n",
    "        <td>The sample that results from random sampling withou stratifying the population.</td>\n",
    "    </tr>\n",
    "    <tr>\n",
    "        <td>Bias</td>\n",
    "        <td>Systematic error.</td>\n",
    "    </tr>\n",
    "    <tr>\n",
    "        <td>Sample bias</td>\n",
    "        <td>A sample that misrepresents the population.</td>\n",
    "    </tr>\n",
    "</table>"
   ]
  },
  {
   "cell_type": "code",
   "execution_count": null,
   "id": "a4072fd8-f0e0-40b0-a8cc-30f15e2d27b9",
   "metadata": {},
   "outputs": [],
   "source": []
  }
 ],
 "metadata": {
  "kernelspec": {
   "display_name": "Python 3 (ipykernel)",
   "language": "python",
   "name": "python3"
  },
  "language_info": {
   "codemirror_mode": {
    "name": "ipython",
    "version": 3
   },
   "file_extension": ".py",
   "mimetype": "text/x-python",
   "name": "python",
   "nbconvert_exporter": "python",
   "pygments_lexer": "ipython3",
   "version": "3.13.1"
  }
 },
 "nbformat": 4,
 "nbformat_minor": 5
}
