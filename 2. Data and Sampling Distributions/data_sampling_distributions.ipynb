{
 "cells": [
  {
   "cell_type": "markdown",
   "id": "237750cf-a3a8-4b4f-9fbf-39b2e13e236a",
   "metadata": {},
   "source": [
    "# 2. Data and Sampling Distributions"
   ]
  },
  {
   "cell_type": "code",
   "execution_count": null,
   "id": "a4072fd8-f0e0-40b0-a8cc-30f15e2d27b9",
   "metadata": {},
   "outputs": [],
   "source": []
  }
 ],
 "metadata": {
  "kernelspec": {
   "display_name": "Python 3 (ipykernel)",
   "language": "python",
   "name": "python3"
  },
  "language_info": {
   "codemirror_mode": {
    "name": "ipython",
    "version": 3
   },
   "file_extension": ".py",
   "mimetype": "text/x-python",
   "name": "python",
   "nbconvert_exporter": "python",
   "pygments_lexer": "ipython3",
   "version": "3.13.1"
  }
 },
 "nbformat": 4,
 "nbformat_minor": 5
}
