{
 "cells": [
  {
   "cell_type": "code",
   "execution_count": 1,
   "metadata": {},
   "outputs": [],
   "source": [
    "import pandas as pd\n",
    "import numpy as np\n",
    "\n",
    "import matplotlib.pyplot as plt"
   ]
  },
  {
   "cell_type": "markdown",
   "metadata": {},
   "source": [
    "# 3. Statistical Experiments and Significance Testing\n",
    "\n",
    "Design of experiments is a cornerstone of the practice of statistics, with applications in virtually all areas of research. The goal is to design an experiment in order to confirm or reject a hypothesis. Data scientists often need to conduct continual experiments, particularly regarding user interface and product marketing.\n",
    "\n",
    "#### A/B Testing\n",
    "\n",
    "An A/B test is an experiment with two groups to establish which of two treatments, products, prcedures, or the like is superior. Often one of the two treatments is the standard existing treatment, or no treatment. If a standard (or no) treatment is used, it is called _control_. A typical hypothesis is that a new treatment is better than the control.\n",
    "\n",
    "\n",
    "<table style='margin-left: 0; border: 1px solid'>\n",
    "    <tr>\n",
    "        <th>Term</th>\n",
    "        <th>Explanation</th>\n",
    "    </tr>\n",
    "    <tr>\n",
    "        <td>Treatment</td>\n",
    "        <td>Something (drug, price, web headline) to which a subject is exposed.</td>\n",
    "    </tr>\n",
    "    <tr>\n",
    "        <td>Treatment group</td>\n",
    "        <td>A group of subjects exposed to a specific treatment</td>\n",
    "    </tr>\n",
    "    <tr>\n",
    "        <td>Control group</td>\n",
    "        <td>A group of subjects exposed to no (or standard) treatment</td>\n",
    "    </tr>\n",
    "    <tr>\n",
    "        <td>Randomization</td>\n",
    "        <td>The process of randomly assigning subjects to treatments</td>\n",
    "    </tr>\n",
    "    <tr>\n",
    "        <td>Subjects</td>\n",
    "        <td>The items (web visitor, patients, etc.) that are exposed to treatments</td>\n",
    "    </tr>\n",
    "    <tr>\n",
    "        <td>Test statistic</td>\n",
    "        <td>The metric used to measure the effect of the treatment</td>\n",
    "    </tr>\n",
    "</table>\n",
    "\n",
    "A/B testing are common in web design and marketing, since results are so readily measured.\n",
    "\n",
    "#### Hypothesis Tests\n",
    "\n",
    "Hypothesis tests, also called _significance tests_, are ubiquitous in the traditional statistical analysis of published research. Their purpose is to help you to learn whether random chance might be responsible for an observed effect.\n",
    "\n",
    "<table style='margin-left: 0; border: 1px solid'>\n",
    "    <tr>\n",
    "        <th>Term</th>\n",
    "        <th>Explanation</th>\n",
    "    </tr>\n",
    "    <tr>\n",
    "        <td>Null hypothesis</td>\n",
    "        <td>The hypothesis tha chance is to blame.</td>\n",
    "    </tr>\n",
    "    <tr>\n",
    "        <td>Alternative hypothesis</td>\n",
    "        <td>Counterpoint to the null (what you hope to prove)</td>\n",
    "    </tr>\n",
    "    <tr>\n",
    "        <td>One-way test</td>\n",
    "        <td>Hypothesis test that counts chance results only in one direction</td>\n",
    "    </tr>\n",
    "    <tr>\n",
    "        <td>Two-way test</td>\n",
    "        <td>Hypothesis test that counts chance results in two directions</td>\n",
    "    </tr>\n",
    "</table>\n",
    "\n",
    "#### The Null Hypothesis\n",
    "\n",
    "Hypothesis tests use the following logic: \"Given the human tendency to react to unusual but random behavior and interpret it as something meaningful and real, in our experiments we will require proof that the difference between groups is more extreme than what chance might reasonably produce.\" This involves a baseline assumption that the treatments are equivalent, and any difference between the groups is due tochance. This baseline assumption is termed the _null hypothesis_. Our hope, then is that we can in fact prove the null hypothesis _wrong_ and show that outcomes for groups A and B are more different than what chance might produce.\n",
    "\n",
    "#### Alternative Hypothesis\n",
    "\n",
    "Hypothesis tests by their nature involve not just a null hypothesis but also an offsetting alternative hypothesis.\n",
    "\n",
    "* NULL = \"no difference between means of group A and B\"; alternative = \"A is different from B\"\n",
    "* NULL = \"A <= B\"; alternative = \"A > B\"\n",
    "* NULL = \"B is not X% greater then A\"; alternative = \"B is X% greater than A\"\n",
    "\n",
    "Taken together, the null and alternative hypothesis must account for all possibilities. The nature of the null hypothesis determines the structure of the hypothesis test.\n",
    "\n",
    "#### Resampling\n",
    "\n",
    "_Resampling_ in statistics means to repeatedly sample values from observed data, with a general goal f assessing random variability in statistic. It can also be used to assess and improve accuracy of some machine-learning models.\n",
    "\n",
    "\n",
    "<table style='margin-left: 0; border: 1px solid'>\n",
    "    <tr>\n",
    "        <th>Term</th>\n",
    "        <th>Explanation</th>\n",
    "    </tr>\n",
    "    <tr>\n",
    "        <td>Permuattion test</td>\n",
    "        <td>The procedure of combining two r more samples together and randomly (or exhaustively) reallocating the observations to resample.</td>\n",
    "    </tr>\n",
    "    <tr>\n",
    "        <td>Resampling</td>\n",
    "        <td>Drawing additional samples (\"resamples\") from an observed data set.</td>\n",
    "    </tr>\n",
    "    <tr>\n",
    "        <td>With or without replacement</td>\n",
    "        <td>In sampling, whether or not an item is returned to the sample before the next draw.</td>\n",
    "    </tr>\n",
    "</table>\n",
    "\n",
    "#### Permutation test\n",
    "\n",
    "In a _permutation_ procedure, two or more samples are involved, typically the groups in an A/B or other hypothesis tests. _Permute_ means to change the order of a set of values. The first step in a _permutation test_ of a hypothesis is to combine the results from groups A and B (and, if used C, D, ...). This is the logical embodiment of the null hypothesis that the treatments to which the groups were exposed do not differ. We then test that hypothesis by randomly drawing groups from this combined set and seeing how much they differ from one another.\n"
   ]
  },
  {
   "cell_type": "code",
   "execution_count": 2,
   "metadata": {},
   "outputs": [
    {
     "data": {
      "text/html": [
       "<div>\n",
       "<style scoped>\n",
       "    .dataframe tbody tr th:only-of-type {\n",
       "        vertical-align: middle;\n",
       "    }\n",
       "\n",
       "    .dataframe tbody tr th {\n",
       "        vertical-align: top;\n",
       "    }\n",
       "\n",
       "    .dataframe thead th {\n",
       "        text-align: right;\n",
       "    }\n",
       "</style>\n",
       "<table border=\"1\" class=\"dataframe\">\n",
       "  <thead>\n",
       "    <tr style=\"text-align: right;\">\n",
       "      <th></th>\n",
       "      <th>Page</th>\n",
       "      <th>Time</th>\n",
       "    </tr>\n",
       "  </thead>\n",
       "  <tbody>\n",
       "    <tr>\n",
       "      <th>0</th>\n",
       "      <td>Page A</td>\n",
       "      <td>0.21</td>\n",
       "    </tr>\n",
       "    <tr>\n",
       "      <th>1</th>\n",
       "      <td>Page B</td>\n",
       "      <td>2.53</td>\n",
       "    </tr>\n",
       "    <tr>\n",
       "      <th>2</th>\n",
       "      <td>Page A</td>\n",
       "      <td>0.35</td>\n",
       "    </tr>\n",
       "    <tr>\n",
       "      <th>3</th>\n",
       "      <td>Page B</td>\n",
       "      <td>0.71</td>\n",
       "    </tr>\n",
       "    <tr>\n",
       "      <th>4</th>\n",
       "      <td>Page A</td>\n",
       "      <td>0.67</td>\n",
       "    </tr>\n",
       "  </tbody>\n",
       "</table>\n",
       "</div>"
      ],
      "text/plain": [
       "     Page  Time\n",
       "0  Page A  0.21\n",
       "1  Page B  2.53\n",
       "2  Page A  0.35\n",
       "3  Page B  0.71\n",
       "4  Page A  0.67"
      ]
     },
     "execution_count": 2,
     "metadata": {},
     "output_type": "execute_result"
    }
   ],
   "source": [
    "# Example of a permutation test\n",
    "session_times = pd.read_csv(\"https://raw.githubusercontent.com/gedeck/practical-statistics-for-data-scientists/refs/heads/master/data/web_page_data.csv\")\n",
    "session_times.head()"
   ]
  },
  {
   "cell_type": "code",
   "execution_count": 3,
   "metadata": {},
   "outputs": [
    {
     "data": {
      "text/plain": [
       "Text(0.5, 0.98, '')"
      ]
     },
     "execution_count": 3,
     "metadata": {},
     "output_type": "execute_result"
    },
    {
     "data": {
      "image/png": "[encoded data removed]",
      "text/plain": [
       "<Figure size 640x480 with 1 Axes>"
      ]
     },
     "metadata": {},
     "output_type": "display_data"
    }
   ],
   "source": [
    "ax = session_times.boxplot(by='Page', column='Time')\n",
    "ax.set_xlabel('')\n",
    "ax.set_ylabel('Time (in seconds)')\n",
    "plt.suptitle('')"
   ]
  },
  {
   "cell_type": "code",
   "execution_count": 4,
   "metadata": {},
   "outputs": [
    {
     "name": "stdout",
     "output_type": "stream",
     "text": [
      "Difference between means: 0.3567\n"
     ]
    }
   ],
   "source": [
    "mean_a = session_times[session_times.Page == 'Page A'].Time.mean()\n",
    "mean_b = session_times[session_times.Page == 'Page B'].Time.mean()\n",
    "print(f'Difference between means: {mean_b - mean_a:.4f}')"
   ]
  },
  {
   "cell_type": "code",
   "execution_count": 27,
   "metadata": {},
   "outputs": [
    {
     "data": {
      "image/png": "[encoded data removed]",
      "text/plain": [
       "<Figure size 1000x500 with 1 Axes>"
      ]
     },
     "metadata": {},
     "output_type": "display_data"
    }
   ],
   "source": [
    "# Page B has session times grater than those of page A by 35.67 seconds, on average. The question\n",
    "# is whether this difference is within tha range of what random chance might produce. One way to\n",
    "# answer this is to apply a permutation test - combine all session times together and then repeatedly\n",
    "# shuffle and divide them into groups.\n",
    "import random\n",
    "\n",
    "def perm_fun(x, nA, nB):\n",
    "\tn = nA + nB\n",
    "\tidx_B = set(random.sample(range(n), nB))\n",
    "\tidx_A = set(range(n)) - idx_B\n",
    "\treturn x.loc[list(idx_B)].mean()  - x.loc[list(idx_A)].mean()\n",
    "\n",
    "# This function works by sampling (without replacements) nB indices and assigning them to the\n",
    "# B group; the renaming nA indices are assigned to group A. The difference between the two means\n",
    "# is returned. Calling R=1000 times leads to a distribution of differences int the session times\n",
    "# that can be plotted as a histogram\n",
    "\n",
    "perm_diffs = [perm_fun(session_times.Time, 21, 15) for _ in range(1000)]\n",
    "\n",
    "fig, ax = plt.subplots(figsize=(10, 5))\n",
    "ax.hist(perm_diffs, bins=11, rwidth=0.9)\n",
    "ax.axvline(x=mean_b - mean_a, color='black', lw=2)\n",
    "ax.text(0.375, 175, 'Observed\\ndifference')\n",
    "ax.set_xlabel('Session time differences (in seconds)')\n",
    "ax.set_ylabel('Frequency')\n",
    "plt.show()"
   ]
  },
  {
   "cell_type": "code",
   "execution_count": 29,
   "metadata": {},
   "outputs": [
    {
     "name": "stdout",
     "output_type": "stream",
     "text": [
      "0.137\n"
     ]
    }
   ],
   "source": [
    "print(np.mean(perm_diffs > mean_b - mean_a))"
   ]
  }
 ],
 "metadata": {
  "kernelspec": {
   "display_name": ".venv",
   "language": "python",
   "name": "python3"
  },
  "language_info": {
   "codemirror_mode": {
    "name": "ipython",
    "version": 3
   },
   "file_extension": ".py",
   "mimetype": "text/x-python",
   "name": "python",
   "nbconvert_exporter": "python",
   "pygments_lexer": "ipython3",
   "version": "3.13.1"
  }
 },
 "nbformat": 4,
 "nbformat_minor": 2
}
