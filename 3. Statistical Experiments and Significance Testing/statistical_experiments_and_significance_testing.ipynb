{
 "cells": [
  {
   "cell_type": "code",
   "execution_count": 1,
   "metadata": {},
   "outputs": [],
   "source": [
    "import pandas as pd\n",
    "import numpy as np\n",
    "import statsmodels.api as sm\n",
    "import statsmodels.formula.api as smf\n",
    "from scipy import stats\n",
    "\n",
    "import matplotlib.pyplot as plt"
   ]
  },
  {
   "cell_type": "markdown",
   "metadata": {},
   "source": [
    "# 3. Statistical Experiments and Significance Testing\n",
    "\n",
    "Design of experiments is a cornerstone of the practice of statistics, with applications in virtually all areas of research. The goal is to design an experiment in order to confirm or reject a hypothesis. Data scientists often need to conduct continual experiments, particularly regarding user interface and product marketing.\n",
    "\n",
    "#### A/B Testing\n",
    "\n",
    "An A/B test is an experiment with two groups to establish which of two treatments, products, prcedures, or the like is superior. Often one of the two treatments is the standard existing treatment, or no treatment. If a standard (or no) treatment is used, it is called _control_. A typical hypothesis is that a new treatment is better than the control.\n",
    "\n",
    "\n",
    "<table style='margin-left: 0; border: 1px solid'>\n",
    "    <tr>\n",
    "        <th>Term</th>\n",
    "        <th>Explanation</th>\n",
    "    </tr>\n",
    "    <tr>\n",
    "        <td>Treatment</td>\n",
    "        <td>Something (drug, price, web headline) to which a subject is exposed.</td>\n",
    "    </tr>\n",
    "    <tr>\n",
    "        <td>Treatment group</td>\n",
    "        <td>A group of subjects exposed to a specific treatment</td>\n",
    "    </tr>\n",
    "    <tr>\n",
    "        <td>Control group</td>\n",
    "        <td>A group of subjects exposed to no (or standard) treatment</td>\n",
    "    </tr>\n",
    "    <tr>\n",
    "        <td>Randomization</td>\n",
    "        <td>The process of randomly assigning subjects to treatments</td>\n",
    "    </tr>\n",
    "    <tr>\n",
    "        <td>Subjects</td>\n",
    "        <td>The items (web visitor, patients, etc.) that are exposed to treatments</td>\n",
    "    </tr>\n",
    "    <tr>\n",
    "        <td>Test statistic</td>\n",
    "        <td>The metric used to measure the effect of the treatment</td>\n",
    "    </tr>\n",
    "</table>\n",
    "\n",
    "A/B testing are common in web design and marketing, since results are so readily measured.\n",
    "\n",
    "#### Hypothesis Tests\n",
    "\n",
    "Hypothesis tests, also called _significance tests_, are ubiquitous in the traditional statistical analysis of published research. Their purpose is to help you to learn whether random chance might be responsible for an observed effect.\n",
    "\n",
    "<table style='margin-left: 0; border: 1px solid'>\n",
    "    <tr>\n",
    "        <th>Term</th>\n",
    "        <th>Explanation</th>\n",
    "    </tr>\n",
    "    <tr>\n",
    "        <td>Null hypothesis</td>\n",
    "        <td>The hypothesis tha chance is to blame.</td>\n",
    "    </tr>\n",
    "    <tr>\n",
    "        <td>Alternative hypothesis</td>\n",
    "        <td>Counterpoint to the null (what you hope to prove)</td>\n",
    "    </tr>\n",
    "    <tr>\n",
    "        <td>One-way test</td>\n",
    "        <td>Hypothesis test that counts chance results only in one direction</td>\n",
    "    </tr>\n",
    "    <tr>\n",
    "        <td>Two-way test</td>\n",
    "        <td>Hypothesis test that counts chance results in two directions</td>\n",
    "    </tr>\n",
    "</table>\n",
    "\n",
    "#### The Null Hypothesis\n",
    "\n",
    "Hypothesis tests use the following logic: \"Given the human tendency to react to unusual but random behavior and interpret it as something meaningful and real, in our experiments we will require proof that the difference between groups is more extreme than what chance might reasonably produce.\" This involves a baseline assumption that the treatments are equivalent, and any difference between the groups is due tochance. This baseline assumption is termed the _null hypothesis_. Our hope, then is that we can in fact prove the null hypothesis _wrong_ and show that outcomes for groups A and B are more different than what chance might produce.\n",
    "\n",
    "#### Alternative Hypothesis\n",
    "\n",
    "Hypothesis tests by their nature involve not just a null hypothesis but also an offsetting alternative hypothesis.\n",
    "\n",
    "* NULL = \"no difference between means of group A and B\"; alternative = \"A is different from B\"\n",
    "* NULL = \"A <= B\"; alternative = \"A > B\"\n",
    "* NULL = \"B is not X% greater then A\"; alternative = \"B is X% greater than A\"\n",
    "\n",
    "Taken together, the null and alternative hypothesis must account for all possibilities. The nature of the null hypothesis determines the structure of the hypothesis test.\n",
    "\n",
    "#### Resampling\n",
    "\n",
    "_Resampling_ in statistics means to repeatedly sample values from observed data, with a general goal f assessing random variability in statistic. It can also be used to assess and improve accuracy of some machine-learning models.\n",
    "\n",
    "\n",
    "<table style='margin-left: 0; border: 1px solid'>\n",
    "    <tr>\n",
    "        <th>Term</th>\n",
    "        <th>Explanation</th>\n",
    "    </tr>\n",
    "    <tr>\n",
    "        <td>Permuattion test</td>\n",
    "        <td>The procedure of combining two r more samples together and randomly (or exhaustively) reallocating the observations to resample.</td>\n",
    "    </tr>\n",
    "    <tr>\n",
    "        <td>Resampling</td>\n",
    "        <td>Drawing additional samples (\"resamples\") from an observed data set.</td>\n",
    "    </tr>\n",
    "    <tr>\n",
    "        <td>With or without replacement</td>\n",
    "        <td>In sampling, whether or not an item is returned to the sample before the next draw.</td>\n",
    "    </tr>\n",
    "</table>\n",
    "\n",
    "#### Permutation test\n",
    "\n",
    "In a _permutation_ procedure, two or more samples are involved, typically the groups in an A/B or other hypothesis tests. _Permute_ means to change the order of a set of values. The first step in a _permutation test_ of a hypothesis is to combine the results from groups A and B (and, if used C, D, ...). This is the logical embodiment of the null hypothesis that the treatments to which the groups were exposed do not differ. We then test that hypothesis by randomly drawing groups from this combined set and seeing how much they differ from one another.\n"
   ]
  },
  {
   "cell_type": "code",
   "execution_count": 2,
   "metadata": {},
   "outputs": [
    {
     "data": {
      "text/html": [
       "<div>\n",
       "<style scoped>\n",
       "    .dataframe tbody tr th:only-of-type {\n",
       "        vertical-align: middle;\n",
       "    }\n",
       "\n",
       "    .dataframe tbody tr th {\n",
       "        vertical-align: top;\n",
       "    }\n",
       "\n",
       "    .dataframe thead th {\n",
       "        text-align: right;\n",
       "    }\n",
       "</style>\n",
       "<table border=\"1\" class=\"dataframe\">\n",
       "  <thead>\n",
       "    <tr style=\"text-align: right;\">\n",
       "      <th></th>\n",
       "      <th>Page</th>\n",
       "      <th>Time</th>\n",
       "    </tr>\n",
       "  </thead>\n",
       "  <tbody>\n",
       "    <tr>\n",
       "      <th>0</th>\n",
       "      <td>Page A</td>\n",
       "      <td>0.21</td>\n",
       "    </tr>\n",
       "    <tr>\n",
       "      <th>1</th>\n",
       "      <td>Page B</td>\n",
       "      <td>2.53</td>\n",
       "    </tr>\n",
       "    <tr>\n",
       "      <th>2</th>\n",
       "      <td>Page A</td>\n",
       "      <td>0.35</td>\n",
       "    </tr>\n",
       "    <tr>\n",
       "      <th>3</th>\n",
       "      <td>Page B</td>\n",
       "      <td>0.71</td>\n",
       "    </tr>\n",
       "    <tr>\n",
       "      <th>4</th>\n",
       "      <td>Page A</td>\n",
       "      <td>0.67</td>\n",
       "    </tr>\n",
       "  </tbody>\n",
       "</table>\n",
       "</div>"
      ],
      "text/plain": [
       "     Page  Time\n",
       "0  Page A  0.21\n",
       "1  Page B  2.53\n",
       "2  Page A  0.35\n",
       "3  Page B  0.71\n",
       "4  Page A  0.67"
      ]
     },
     "execution_count": 2,
     "metadata": {},
     "output_type": "execute_result"
    }
   ],
   "source": [
    "# Example of a permutation test\n",
    "session_times = pd.read_csv(\"https://raw.githubusercontent.com/gedeck/practical-statistics-for-data-scientists/refs/heads/master/data/web_page_data.csv\")\n",
    "session_times.head()"
   ]
  },
  {
   "cell_type": "code",
   "execution_count": 5,
   "metadata": {},
   "outputs": [
    {
     "data": {
      "text/plain": [
       "Text(0.5, 0.98, '')"
      ]
     },
     "execution_count": 5,
     "metadata": {},
     "output_type": "execute_result"
    },
    {
     "data": {
      "image/png": "[encoded data removed]",
      "text/plain": [
       "<Figure size 640x480 with 1 Axes>"
      ]
     },
     "metadata": {},
     "output_type": "display_data"
    }
   ],
   "source": [
    "ax = session_times.boxplot(by='Page', column='Time')\n",
    "ax.set_xlabel('')\n",
    "ax.set_ylabel('Time (in seconds)')\n",
    "plt.suptitle('')"
   ]
  },
  {
   "cell_type": "code",
   "execution_count": 6,
   "metadata": {},
   "outputs": [
    {
     "name": "stdout",
     "output_type": "stream",
     "text": [
      "Difference between means: 0.3567\n"
     ]
    }
   ],
   "source": [
    "mean_a = session_times[session_times.Page == 'Page A'].Time.mean()\n",
    "mean_b = session_times[session_times.Page == 'Page B'].Time.mean()\n",
    "print(f'Difference between means: {mean_b - mean_a:.4f}')"
   ]
  },
  {
   "cell_type": "code",
   "execution_count": 7,
   "metadata": {},
   "outputs": [],
   "source": [
    "# Page B has session times grater than those of page A by 35.67 seconds, on average. The question\n",
    "# is whether this difference is within tha range of what random chance might produce. One way to\n",
    "# answer this is to apply a permutation test - combine all session times together and then repeatedly\n",
    "# shuffle and divide them into groups.\n",
    "import random\n",
    "\n",
    "def perm_fun(x, nA, nB):\n",
    "\tn = nA + nB\n",
    "\tidx_B = set(random.sample(range(n), nB))\n",
    "\tidx_A = set(range(n)) - idx_B\n",
    "\treturn x.loc[list(idx_B)].mean()  - x.loc[list(idx_A)].mean()\n",
    "\n",
    "# This function works by sampling (without replacements) nB indices and assigning them to the\n",
    "# B group; the renaming nA indices are assigned to group A. The difference between the two means\n",
    "# is returned. Calling R=1000 times leads to a distribution of differences int the session times\n",
    "# that can be plotted as a histogram"
   ]
  },
  {
   "cell_type": "code",
   "execution_count": 8,
   "metadata": {},
   "outputs": [
    {
     "data": {
      "image/png": "[encoded data removed]",
      "text/plain": [
       "<Figure size 1000x500 with 1 Axes>"
      ]
     },
     "metadata": {},
     "output_type": "display_data"
    }
   ],
   "source": [
    "perm_diffs = [perm_fun(session_times.Time, 21, 15) for _ in range(1000)]\n",
    "\n",
    "fig, ax = plt.subplots(figsize=(10, 5))\n",
    "ax.hist(perm_diffs, bins=11, rwidth=0.9)\n",
    "ax.axvline(x=mean_b - mean_a, color='black', lw=2)\n",
    "ax.text(0.375, 175, 'Observed\\ndifference')\n",
    "ax.set_xlabel('Session time differences (in seconds)')\n",
    "ax.set_ylabel('Frequency')\n",
    "plt.show()"
   ]
  },
  {
   "cell_type": "markdown",
   "metadata": {},
   "source": [
    "#### Statistica Significante and p-Values\n",
    "\n",
    "Statistical significance is how statisticians measure whether an experiment (or even a study of existing data) yields a result more extreme that what chance might produce. If the result is beyond the realm of chance variation, it is said to be statistically significant.\n",
    "\n",
    "<table style='margin-left: 0; border: 1px solid'>\n",
    "    <tr>\n",
    "        <th>Term</th>\n",
    "        <th>Explanation</th>\n",
    "    </tr>\n",
    "    <tr>\n",
    "        <td>p-value</td>\n",
    "        <td>Given a chance model that embodies the null hypothesis, the p-value is the probability of obtaining results as unusual or extreme as the observed results.</td>\n",
    "    </tr>\n",
    "    <tr>\n",
    "        <td>Alpha</td>\n",
    "        <td>The probability threshold of \"unusualness\" that chance results must surpass for actual outcomes to be deemed statistically significant</td>\n",
    "    </tr>\n",
    "    <tr>\n",
    "        <td>Type 1 error</td>\n",
    "        <td>Mistakenly concluding and effect is real (when it is due to chance)</td>\n",
    "    </tr>\n",
    "    <tr>\n",
    "        <td>Type 2 error</td>\n",
    "        <td>Mistankenly concluding an effect is due to chance (when it is real)</td>\n",
    "    </tr>\n",
    "</table>\n"
   ]
  },
  {
   "cell_type": "code",
   "execution_count": 10,
   "metadata": {},
   "outputs": [
    {
     "name": "stdout",
     "output_type": "stream",
     "text": [
      "Observed differences: 0.036758%\n"
     ]
    },
    {
     "data": {
      "image/png": "[encoded data removed]",
      "text/plain": [
       "<Figure size 1000x500 with 1 Axes>"
      ]
     },
     "metadata": {},
     "output_type": "display_data"
    }
   ],
   "source": [
    "obs_pct_diff = 100 * (200/23739 - 182/22588)\n",
    "print(f'Observed differences: {obs_pct_diff:4f}%')\n",
    "\n",
    "conversions = [0] * 45945\n",
    "conversions.extend([1] * 382)\n",
    "conversions = pd.Series(conversions)\n",
    "\n",
    "perm_diffs = [100 * perm_fun(conversions, 23739, 22588) for _ in range(1000)]\n",
    "\n",
    "fig, ax = plt.subplots(figsize=(10, 5))\n",
    "ax.hist(perm_diffs, bins=11, rwidth=0.9)\n",
    "ax.axvline(x=obs_pct_diff, color='black', lw=2)\n",
    "ax.text(0.06, 200, 'Observed\\ndifference')\n",
    "ax.set_xlabel('Conversion rate (percentage)')\n",
    "ax.set_ylabel('Frequency')\n",
    "plt.show()"
   ]
  },
  {
   "cell_type": "markdown",
   "metadata": {},
   "source": [
    "#### p-Value\n",
    "\n",
    "Simply looking at the graph is ot a very precise way to measure statistical significance, so of more interest is the _p-value_. This is the frequency with which the chance model produces a result more extreme than the observed result."
   ]
  },
  {
   "cell_type": "code",
   "execution_count": null,
   "metadata": {},
   "outputs": [
    {
     "name": "stdout",
     "output_type": "stream",
     "text": [
      "p-value approximation: 0.313\n"
     ]
    }
   ],
   "source": [
    "# We can estimate a p-value from our permutation test by taking the proportion of times that the\n",
    "# permutation test poduces a difference equal to or greater than the observed difference\n",
    "\n",
    "print(f\"p-value approximation: {np.mean([diff > obs_pct_diff for diff in perm_diffs]):.3f}\")"
   ]
  },
  {
   "cell_type": "code",
   "execution_count": 21,
   "metadata": {},
   "outputs": [
    {
     "name": "stdout",
     "output_type": "stream",
     "text": [
      "p-value for single sided tests: 0.3498\n"
     ]
    }
   ],
   "source": [
    "survivors = np.array([[200, 23739 - 200], [182, 22588 - 182]])\n",
    "chi2, p_value, df, _ = stats.chi2_contingency(survivors)\n",
    "print(f\"p-value for single sided tests: {p_value / 2:.4f}\")"
   ]
  },
  {
   "cell_type": "markdown",
   "metadata": {},
   "source": [
    "#### t-Tests\n",
    "\n",
    "There are numerous types of significance tests, depending on whether the data comprises count data data or measured data, how many samples there are, and what's being measured. A very common one is the _t-test_, originally developed to approximate the distribution of a single sample mean.\n",
    "\n",
    "<table style='margin-left: 0; border: 1px solid'>\n",
    "    <tr>\n",
    "        <th>Term</th>\n",
    "        <th>Explanation</th>\n",
    "    </tr>\n",
    "    <tr>\n",
    "        <td>Test statistic</td>\n",
    "        <td>A metric for the difference or effect of interest</td>\n",
    "    </tr>\n",
    "    <tr>\n",
    "        <td>t-statistic</td>\n",
    "        <td>A standardized version of common test statistics as means</td>\n",
    "    </tr>\n",
    "    <tr>\n",
    "        <td>t-distribution</td>\n",
    "        <td>A reference distribution (in this case derived from the null hypothesis), to which the observed t-statistic can be compared</td>\n",
    "    </tr>\n",
    "</table>\n",
    "\n",
    "All significance tests require that you specif a _test statistic_ to measure the effect you are interested in and help you determine whther that observed effect lies within the range of normal chance variation."
   ]
  },
  {
   "cell_type": "code",
   "execution_count": null,
   "metadata": {},
   "outputs": [
    {
     "name": "stdout",
     "output_type": "stream",
     "text": [
      "p-value for single sided test: 0.1408\n"
     ]
    }
   ],
   "source": [
    "# The alternative hypothesis is that the session time mean for Page A is less than that for Page B.\n",
    "res = stats.ttest_ind(\n",
    "\tsession_times[session_times.Page == 'Page A'].Time,\n",
    "\tsession_times[session_times.Page == 'Page B'].Time,\n",
    "\tequal_var=False\n",
    ")\n",
    "print(f'p-value for single sided test: {res.pvalue / 2:.4f}')"
   ]
  },
  {
   "cell_type": "markdown",
   "metadata": {},
   "source": [
    "#### Multiple Testing\n",
    "\n",
    "<table style='margin-left: 0; border: 1px solid'>\n",
    "    <tr>\n",
    "        <th>Term</th>\n",
    "        <th>Explanation</th>\n",
    "    </tr>\n",
    "    <tr>\n",
    "        <td>Type 1 error</td>\n",
    "        <td>Mistakenly concluding that an effect is statistically significant</td>\n",
    "    </tr>\n",
    "    <tr>\n",
    "        <td>False discovery rate</td>\n",
    "        <td>Across multiple tests, the rate of making a Type 1 error</td>\n",
    "    </tr>\n",
    "    <tr>\n",
    "        <td>Alpha inflation</td>\n",
    "        <td>The multiple testing phenomenon, in which alpha, the probability of making a Type 1 error, increases as you conduct more tests.</td>\n",
    "    </tr>\n",
    "    <tr>\n",
    "        <td>Adjustment of p-values</td>\n",
    "        <td>Accounting for doing multiple tests on the same data</td>\n",
    "    </tr>\n",
    "    <tr>\n",
    "        <td>Overfitting</td>\n",
    "        <td>Fitting the noise</td>\n",
    "    </tr>\n",
    "</table>\n",
    "\n",
    "In supervised leargning tasks, a holdout set where models are assessed on data that the model has not seen before mitigates this risk. In statistical and machine learning tasks not involving a labeled holdout set, the risk of reaching conclusions based on statistical noise persists.\n",
    "\n",
    "#### Degreees of freedom\n",
    "\n",
    "In the documentation and settings for many statistical tests and probability distributions, you will see a reference to \"degrees of freedom\". The concept is applied to statistics calculated from sample data, and refers to the number of values free to vary.\n",
    "\n",
    "<table style='margin-left: 0; border: 1px solid'>\n",
    "    <tr>\n",
    "        <th>Term</th>\n",
    "        <th>Explanation</th>\n",
    "    </tr>\n",
    "    <tr>\n",
    "        <td>n or sample size</td>\n",
    "        <td>The number of observations (also called rows or records) in the data</td>\n",
    "    </tr>\n",
    "    <tr>\n",
    "        <td>d.f</td>\n",
    "        <td>Degrees of freedom</td>\n",
    "    </tr>\n",
    "</table>\n",
    "\n",
    "There is one context, in data science, in which it is relevant: the use of factored variables in regression (including logistic regression). Some regression algorithms choke if exactly redundant predictor variables are present. This most commonly occurs when factring categorical vairables into binary indicators (dummies). Consider the variable \"day of week\". Altough there are seven days of the week, there are only six degrees of freedom in specifying day of week. For example, once you know that day of week is not Monday through Saturday, you know it must be Sunday. Inclusion of the Mon-Sat indicators thus means that also including Sunday would cause the regression to fail, due to a multicollinearity error.\n",
    "\n",
    "#### ANOVA\n",
    "\n",
    "Suppose that, instead of an A/B tests, we had a comparison of multiple groups, say A/B/C/D, each with numeric data. The statistical procedure that tests for a statistically significant difference among the groups is called _analysis o variance_, or ANOVA.\n",
    "\n",
    "<table style='margin-left: 0; border: 1px solid'>\n",
    "    <tr>\n",
    "        <th>Term</th>\n",
    "        <th>Explanation</th>\n",
    "    </tr>\n",
    "    <tr>\n",
    "        <td>Pairwise comparison</td>\n",
    "        <td>A hypothesis (e.g., of means) between two groups among multiple groups</td>\n",
    "    </tr>\n",
    "    <tr>\n",
    "        <td>Omnibus test</td>\n",
    "        <td>A single hypothesis test of the overall variance among multiple group means</td>\n",
    "    </tr>\n",
    "    <tr>\n",
    "        <td>Decomposition of variance</td>\n",
    "        <td>Separation of components contributing to an individual value (e.g., from the overall average, from a treatment mean, and from a residual error)</td>\n",
    "    </tr>\n",
    "    <tr>\n",
    "        <td>F-statistic</td>\n",
    "        <td>A standardized statistic that measures the extent to which differences among group means exceed what might be expected in a chance model.</td>\n",
    "    </tr>\n",
    "    <tr>\n",
    "        <td>SS</td>\n",
    "        <td>\"Sum of squares\", referring to deviations from some average values</td>\n",
    "    </tr>\n",
    "</table>"
   ]
  },
  {
   "cell_type": "code",
   "execution_count": 2,
   "metadata": {},
   "outputs": [
    {
     "data": {
      "text/html": [
       "<div>\n",
       "<style scoped>\n",
       "    .dataframe tbody tr th:only-of-type {\n",
       "        vertical-align: middle;\n",
       "    }\n",
       "\n",
       "    .dataframe tbody tr th {\n",
       "        vertical-align: top;\n",
       "    }\n",
       "\n",
       "    .dataframe thead th {\n",
       "        text-align: right;\n",
       "    }\n",
       "</style>\n",
       "<table border=\"1\" class=\"dataframe\">\n",
       "  <thead>\n",
       "    <tr style=\"text-align: right;\">\n",
       "      <th></th>\n",
       "      <th>Page</th>\n",
       "      <th>Time</th>\n",
       "    </tr>\n",
       "  </thead>\n",
       "  <tbody>\n",
       "    <tr>\n",
       "      <th>0</th>\n",
       "      <td>Page 1</td>\n",
       "      <td>164</td>\n",
       "    </tr>\n",
       "    <tr>\n",
       "      <th>1</th>\n",
       "      <td>Page 2</td>\n",
       "      <td>178</td>\n",
       "    </tr>\n",
       "    <tr>\n",
       "      <th>2</th>\n",
       "      <td>Page 3</td>\n",
       "      <td>175</td>\n",
       "    </tr>\n",
       "    <tr>\n",
       "      <th>3</th>\n",
       "      <td>Page 4</td>\n",
       "      <td>155</td>\n",
       "    </tr>\n",
       "    <tr>\n",
       "      <th>4</th>\n",
       "      <td>Page 1</td>\n",
       "      <td>172</td>\n",
       "    </tr>\n",
       "  </tbody>\n",
       "</table>\n",
       "</div>"
      ],
      "text/plain": [
       "     Page  Time\n",
       "0  Page 1   164\n",
       "1  Page 2   178\n",
       "2  Page 3   175\n",
       "3  Page 4   155\n",
       "4  Page 1   172"
      ]
     },
     "execution_count": 2,
     "metadata": {},
     "output_type": "execute_result"
    }
   ],
   "source": [
    "four_sessions = pd.read_csv('https://github.com/gedeck/practical-statistics-for-data-scientists/raw/refs/heads/master/data/four_sessions.csv')\n",
    "four_sessions.head()"
   ]
  },
  {
   "cell_type": "code",
   "execution_count": 5,
   "metadata": {},
   "outputs": [
    {
     "data": {
      "image/png": "[encoded data removed]",
      "text/plain": [
       "<Figure size 640x480 with 1 Axes>"
      ]
     },
     "metadata": {},
     "output_type": "display_data"
    }
   ],
   "source": [
    "four_sessions.plot.box(by='Page');"
   ]
  },
  {
   "cell_type": "markdown",
   "metadata": {},
   "source": [
    "Instead of worrying about all the different comparisons between individual pages we could possibly make, we can do a single overall testa that addresses the question, \"Could all the pages have the same underlying stickiness, and the differences among them be due to the random way in which a common set of session times got allocated among the four pages?\"\n",
    "\n",
    "The procedure use to test this is ANOVA. The basis for it can be seen in the following resampling procedure:\n",
    "\n",
    "1. Combine all the data together in a single box\n",
    "2. Shuffle and draw out four resamples of five values each\n",
    "3. Record the mean of each of the four groups\n",
    "4. Record the variance among the four group means\n",
    "5. Repeat steps 2-4 many times\n",
    "\n",
    "What proportion of the time did the resamples variance exceeded the observed variances? This is the p-value."
   ]
  },
  {
   "cell_type": "code",
   "execution_count": 11,
   "metadata": {},
   "outputs": [
    {
     "name": "stdout",
     "output_type": "stream",
     "text": [
      "Observed means: [172.8 182.6 175.6 164.6]\n",
      "Variance: 55.426666666666655\n",
      "Pr(Prob) 0.08\n"
     ]
    }
   ],
   "source": [
    "observed_variance = four_sessions.groupby('Page').mean().var().Time\n",
    "\n",
    "print('Observed means:', four_sessions.groupby('Page').mean().values.ravel())\n",
    "print('Variance:', observed_variance)\n",
    "\n",
    "def perm_test(df):\n",
    "\tdf = df.copy()\n",
    "\tdf['Time'] = np.random.permutation(df['Time'].values)\n",
    "\treturn df.groupby('Page').mean().var().Time\n",
    "\n",
    "perm_variance = [perm_test(four_sessions) for _ in range(3000)]\n",
    "print('Pr(Prob)', np.mean([var > observed_variance for var in perm_variance]))"
   ]
  },
  {
   "cell_type": "markdown",
   "metadata": {},
   "source": [
    "#### F-Statistic\n",
    "\n",
    "Just like the t-test can be used instead of a permutation test for comparing the mean of two groups, the is a statistical test for ANOVA based on the _F-statistic_. The F-statistic is based on the ration of the variance accross group means to the variance due to residual error. The higher this ratio, the more statistically significant the result. If the data follows a normal distribution, the statistical theory dictates that the statistic should have a certain distribution. Based on this, it is possible to compute the p-value."
   ]
  },
  {
   "cell_type": "code",
   "execution_count": 14,
   "metadata": {},
   "outputs": [
    {
     "data": {
      "text/html": [
       "<div>\n",
       "<style scoped>\n",
       "    .dataframe tbody tr th:only-of-type {\n",
       "        vertical-align: middle;\n",
       "    }\n",
       "\n",
       "    .dataframe tbody tr th {\n",
       "        vertical-align: top;\n",
       "    }\n",
       "\n",
       "    .dataframe thead th {\n",
       "        text-align: right;\n",
       "    }\n",
       "</style>\n",
       "<table border=\"1\" class=\"dataframe\">\n",
       "  <thead>\n",
       "    <tr style=\"text-align: right;\">\n",
       "      <th></th>\n",
       "      <th>df</th>\n",
       "      <th>sum_sq</th>\n",
       "      <th>mean_sq</th>\n",
       "      <th>F</th>\n",
       "      <th>PR(&gt;F)</th>\n",
       "    </tr>\n",
       "  </thead>\n",
       "  <tbody>\n",
       "    <tr>\n",
       "      <th>Page</th>\n",
       "      <td>3.0</td>\n",
       "      <td>831.4</td>\n",
       "      <td>277.133333</td>\n",
       "      <td>2.739825</td>\n",
       "      <td>0.077586</td>\n",
       "    </tr>\n",
       "    <tr>\n",
       "      <th>Residual</th>\n",
       "      <td>16.0</td>\n",
       "      <td>1618.4</td>\n",
       "      <td>101.150000</td>\n",
       "      <td>NaN</td>\n",
       "      <td>NaN</td>\n",
       "    </tr>\n",
       "  </tbody>\n",
       "</table>\n",
       "</div>"
      ],
      "text/plain": [
       "            df  sum_sq     mean_sq         F    PR(>F)\n",
       "Page       3.0   831.4  277.133333  2.739825  0.077586\n",
       "Residual  16.0  1618.4  101.150000       NaN       NaN"
      ]
     },
     "execution_count": 14,
     "metadata": {},
     "output_type": "execute_result"
    }
   ],
   "source": [
    "# The statsmodels package provides an ANOVA implementation in Python\n",
    "model = smf.ols('Time ~ Page', data=four_sessions).fit()\n",
    "\n",
    "aov_table = sm.stats.anova_lm(model)\n",
    "aov_table"
   ]
  },
  {
   "cell_type": "markdown",
   "metadata": {},
   "source": [
    "#### Two-Way ANOVA\n",
    "\n",
    "The A/B/C/D test just described is \"one-way\" ANOVA, in which we have on factor (group) that is varying. We could have a second factor involved - say, \"weekend versus weekday\" - with data collected on each combination (group A weeken, group A weekday, group B weekeend, etc.). This would be a \"two-way ANOVA\", and we would handle it in similar fasshin on the one-way ANOVA by identifying the \"interaction effect\".\n",
    "\n",
    "#### Chi-Square Test\n",
    "\n",
    "Web testing often goes beyond A/B testing and tests multiple treatments at once. The chi-square test is used with count data to test how well it fits some expected distribution.\n",
    "\n",
    "<table style='margin-left: 0; border: 1px solid'>\n",
    "    <tr>\n",
    "        <th>Term</th>\n",
    "        <th>Explanation</th>\n",
    "    </tr>\n",
    "    <tr>\n",
    "        <td>Chi-square statistic</td>\n",
    "        <td>A measure of the extent to which some observed data departs from expectation.</td>\n",
    "    </tr>\n",
    "    <tr>\n",
    "        <td>Expectation or expected</td>\n",
    "        <td>How we would expect the data to turn out under some assumption, typically the null hypothesis</td>\n",
    "    </tr>\n",
    "</table>"
   ]
  }
 ],
 "metadata": {
  "kernelspec": {
   "display_name": "Python 3",
   "language": "python",
   "name": "python3"
  },
  "language_info": {
   "codemirror_mode": {
    "name": "ipython",
    "version": 3
   },
   "file_extension": ".py",
   "mimetype": "text/x-python",
   "name": "python",
   "nbconvert_exporter": "python",
   "pygments_lexer": "ipython3",
   "version": "3.13.1"
  }
 },
 "nbformat": 4,
 "nbformat_minor": 2
}
